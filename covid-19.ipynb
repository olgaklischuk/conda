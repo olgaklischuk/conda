{
 "cells": [
  {
   "cell_type": "code",
   "execution_count": 2,
   "id": "dfae8474-8245-43eb-8278-3670da590ab3",
   "metadata": {},
   "outputs": [
    {
     "name": "stderr",
     "output_type": "stream",
     "text": [
      "Updating HTML index of packages in '.Library'\n",
      "\n",
      "Making 'packages.html' ...\n",
      " done\n",
      "\n"
     ]
    }
   ],
   "source": [
    "#installation package coronavirus\n",
    " install.packages("\devtools\")
     devtools::install_github("\RamiKrispin/coronavirus\")\n"
   ]
  },
  {
   "cell_type": "code",
   "execution_count": null,
   "id": "96801638-d0f5-4350-845d-fe7361749a3d",
   "metadata": {},
   "outputs": [
    {
     "name": "stderr",
     "output_type": "stream",
     "text": [
      "Downloading GitHub repo RamiKrispin/coronavirus@HEAD\n",
      "\n"
     ]
    },
    {
     "name": "stdout",
     "output_type": "stream",
     "text": [
      "utf8        (1.2.1 -> 1.2.2) [CRAN]\n",
      "pillar      (1.6.1 -> 1.6.2) [CRAN]\n",
      "tibble      (3.1.2 -> 3.1.4) [CRAN]\n",
      "fansi       (0.4.2 -> 0.5.0) [CRAN]\n",
      "waldo       (0.2.5 -> 0.3.0) [CRAN]\n",
      "R6          (2.5.0 -> 2.5.1) [CRAN]\n",
      "cli         (2.5.0 -> 3.0.1) [CRAN]\n",
      "curl        (4.3.1 -> 4.3.2) [CRAN]\n",
      "mime        (0.10  -> 0.11 ) [CRAN]\n",
      "xfun        (0.23  -> 0.25 ) [CRAN]\n",
      "stringi     (1.4.6 -> 1.7.4) [CRAN]\n",
      "Rcpp        (1.0.6 -> 1.0.7) [CRAN]\n",
      "cachem      (1.0.5 -> 1.0.6) [CRAN]\n",
      "zip         (2.1.1 -> 2.2.0) [CRAN]\n",
      "credentials (1.3.0 -> 1.3.1) [CRAN]\n",
      "gert        (1.3.0 -> 1.3.2) [CRAN]\n",
      "testthat    (3.0.2 -> 3.0.4) [CRAN]\n",
      "rversions   (2.0.2 -> 2.1.1) [CRAN]\n",
      "remotes     (2.3.0 -> 2.4.0) [CRAN]\n",
      "devtools    (2.4.1 -> 2.4.2) [CRAN]\n"
     ]
    },
    {
     "name": "stderr",
     "output_type": "stream",
     "text": [
      "Installing 20 packages: utf8, pillar, tibble, fansi, waldo, R6, cli, curl, mime, xfun, stringi, Rcpp, cachem, zip, credentials, gert, testthat, rversions, remotes, devtools\n",
      "\n",
      "Warning message in i.p(...):\n",
      "“installation of package ‘curl’ had non-zero exit status”\n"
     ]
    }
   ],
   "source": [
    "# install.packages(\"devtools\")\n",
    "devtools::install_github(\"RamiKrispin/coronavirus\")\n"
   ]
  },
  {
   "cell_type": "code",
   "execution_count": null,
   "id": "ea49faaf-84ed-45d2-a6ab-a22135169681",
   "metadata": {},
   "outputs": [],
   "source": [
    "#updated coronavirus contamination dataset\n",
    "library(coronavirus)\n",
    "update_dataset()\n"
   ]
  },
  {
   "cell_type": "code",
   "execution_count": null,
   "id": "b75c4e91-7e59-4355-aa80-c3c22a96a519",
   "metadata": {},
   "outputs": [],
   "source": [
    "#data_frame\n",
    "covid19_df <- refresh_coronavirus_jhu()\n",
    "head(covid19_df)\n"
   ]
  },
  {
   "cell_type": "code",
   "execution_count": null,
   "id": "82dad487-2049-44ae-95b9-70e28398bb13",
   "metadata": {},
   "outputs": [],
   "source": []
  }
 ],
 "metadata": {
  "kernelspec": {
   "display_name": "R",
   "language": "R",
   "name": "ir"
  },
  "language_info": {
   "codemirror_mode": "r",
   "file_extension": ".r",
   "mimetype": "text/x-r-source",
   "name": "R",
   "pygments_lexer": "r",
   "version": "3.6.3"
  }
 },
 "nbformat": 4,
 "nbformat_minor": 5
}
